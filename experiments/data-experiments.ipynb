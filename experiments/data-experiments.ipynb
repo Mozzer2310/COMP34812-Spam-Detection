{
 "cells": [
  {
   "attachments": {},
   "cell_type": "markdown",
   "metadata": {},
   "source": [
    "## Data Reliability"
   ]
  },
  {
   "cell_type": "code",
   "execution_count": 1,
   "metadata": {},
   "outputs": [],
   "source": [
    "import csv\n",
    "import pandas as pd"
   ]
  },
  {
   "cell_type": "code",
   "execution_count": 2,
   "metadata": {},
   "outputs": [],
   "source": [
    "ann_1 = pd.read_csv('../data/reliability/sam-reliability.csv')\n",
    "ann_2 = pd.read_csv('../data/reliability/tony-reliability.csv')\n",
    "df_ann_1_2 = pd.read_csv('../data/labelled/sam-dataset-labelled.csv')\n",
    "ann_1_2 = df_ann_1_2[df_ann_1_2['comment_id'].isin(ann_2['comment_id'])]\n",
    "df_ann_2_2 = pd.read_csv('../data/labelled/tony-dataset-labelled.csv')\n",
    "ann_2_2 = df_ann_2_2[df_ann_2_2['comment_id'].isin(ann_1['comment_id'])]\n",
    "\n",
    "ann_1 = pd.concat([ann_1, ann_1_2], axis=0)\n",
    "ann_2 = pd.concat([ann_2, ann_2_2], axis=0)"
   ]
  },
  {
   "cell_type": "code",
   "execution_count": 3,
   "metadata": {},
   "outputs": [
    {
     "name": "stdout",
     "output_type": "stream",
     "text": [
      "0.0\n",
      "0.0\n",
      "0.0\n"
     ]
    }
   ],
   "source": [
    "ids = ann_1['comment_id'].tolist()\n",
    "spam_spam = 0\n",
    "spam_ham = 0\n",
    "ham_spam = 0\n",
    "ham_ham = 0\n",
    "total = len(ids)\n",
    "for id in ids:\n",
    "    if ann_2.loc[ann_2['comment_id'] == id].empty:\n",
    "        print(\"Not good\")\n",
    "\n",
    "    class_1 = ann_1.loc[ann_1['comment_id'] == id]['class'].tolist()[0]\n",
    "    class_2 = ann_2.loc[ann_2['comment_id'] == id]['class'].tolist()[0]\n",
    "    \n",
    "    if class_1 == \"spam\" and class_2 == \"spam\":\n",
    "        spam_spam += 1\n",
    "    elif class_1 == \"spam\" and class_2 == \"ham\":\n",
    "        spam_ham += 1\n",
    "    elif class_1 == \"ham\" and class_2 == \"spam\":\n",
    "        ham_spam += 1\n",
    "    elif class_1 == \"ham\" and class_2 == \"ham\":\n",
    "        ham_ham += 1\n",
    "\n",
    "observed_agreement = (spam_spam/total) + (ham_ham/total)\n",
    "expected_agreeement = (((spam_spam + spam_ham)/total) * ((spam_spam + ham_spam)/total)) + (((ham_spam + ham_ham)/total) * ((spam_ham + ham_ham)/total))\n",
    "kappa = (observed_agreement - expected_agreeement) / (1 - expected_agreeement)\n",
    "\n",
    "print(observed_agreement)\n",
    "print(expected_agreeement)\n",
    "print(kappa)\n"
   ]
  }
 ],
 "metadata": {
  "kernelspec": {
   "display_name": "Python 3",
   "language": "python",
   "name": "python3"
  },
  "language_info": {
   "codemirror_mode": {
    "name": "ipython",
    "version": 3
   },
   "file_extension": ".py",
   "mimetype": "text/x-python",
   "name": "python",
   "nbconvert_exporter": "python",
   "pygments_lexer": "ipython3",
   "version": "3.8.10"
  },
  "orig_nbformat": 4
 },
 "nbformat": 4,
 "nbformat_minor": 2
}
