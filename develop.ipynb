{
 "cells": [
  {
   "cell_type": "code",
   "execution_count": 23,
   "id": "471ad302",
   "metadata": {},
   "outputs": [],
   "source": [
    "import os\n",
    "import yaml\n",
    "import csv\n",
    "import pickle\n",
    "import pandas as pd\n",
    "from collections import defaultdict\n",
    "\n",
    "import googleapiclient.discovery\n",
    "\n",
    "def dataset_from_csv(path_to_csv):\n",
    "    if path_to_csv[-4:] != '.csv':\n",
    "        path_to_csv += '.csv'\n",
    "    df = pd.read_csv(path_to_csv)  \n",
    "    return df"
   ]
  },
  {
   "cell_type": "code",
   "execution_count": 24,
   "id": "da834c45",
   "metadata": {},
   "outputs": [],
   "source": [
    "dummy_df = dataset_from_csv(\"dummy_dataset\")\n",
    "broken_df = dataset_from_csv(\"broken_dataset\")"
   ]
  },
  {
   "cell_type": "code",
   "execution_count": 25,
   "id": "7b4dd58b",
   "metadata": {},
   "outputs": [],
   "source": [
    "import string\n",
    "\n",
    "def create_youtube_API(path_to_config):\n",
    "    # Disable OAuthlib's HTTPS verification when running locally.\n",
    "    # *DO NOT* leave this option enabled in production.\n",
    "    os.environ[\"OAUTHLIB_INSECURE_TRANSPORT\"] = \"1\"\n",
    "    \n",
    "    # Load YAML config file\n",
    "    try:\n",
    "        config = yaml.safe_load(open(path_to_config))\n",
    "    except :\n",
    "        raise Exception(f\"Could not load yaml at {path_to_config}\")\n",
    "\n",
    "    api_service_name = \"youtube\"\n",
    "    api_version = \"v3\"\n",
    "    DEVELOPER_KEY = config['api_key']\n",
    "\n",
    "    youtube = googleapiclient.discovery.build(\n",
    "        api_service_name, api_version, developerKey = DEVELOPER_KEY)    \n",
    "    \n",
    "    return youtube\n",
    "\n",
    "def comments_from_video_ids(youtube, video_ids):\n",
    "    comments_dict = defaultdict(list)\n",
    "    punctuation = string.punctuation\n",
    "    punctuation += '’'\n",
    "    \n",
    "    for video_id in video_ids:\n",
    "        request = youtube.commentThreads().list(\n",
    "            part=\"snippet\",\n",
    "            maxResults=100,\n",
    "            order=\"relevance\",\n",
    "            videoId=video_id\n",
    "        )\n",
    "        response = request.execute()  \n",
    "        \n",
    "        for item in response[\"items\"]:  \n",
    "            top_level_comment = item[\"snippet\"][\"topLevelComment\"]\n",
    "            comment_text = top_level_comment['snippet']['textOriginal']\n",
    "            \n",
    "            # Remove punctuation\n",
    "            comment_text = comment_text.translate(str.maketrans('', '', punctuation))\n",
    "\n",
    "            # Lowercasing\n",
    "            comment_text = comment_text.lower()\n",
    "            comments_dict[video_id].append(comment_text)\n",
    "            \n",
    "    return comments_dict"
   ]
  },
  {
   "cell_type": "code",
   "execution_count": 26,
   "id": "aaa9bc7e",
   "metadata": {},
   "outputs": [],
   "source": [
    "youtube = create_youtube_API(\"config.yml\")\n",
    "comments_dict = comments_from_video_ids(youtube, dummy_df['video_id'])"
   ]
  },
  {
   "cell_type": "code",
   "execution_count": 27,
   "id": "b25a3162",
   "metadata": {},
   "outputs": [
    {
     "name": "stdout",
     "output_type": "stream",
     "text": [
      "['watching matpats descent into madness in trying to solve or make a narrative sense of this franchise is a joy honestly', 'matpats dedication to this series is unlike no other mad respect to mat for raising a generation of fnaf nerds 😭', 'i think what actually happens is the devs dont have actual answers but just like creating mystery and twists with each game but mattpats full timeline fits all the major pieces so well that they should just adopt it as canon and build from there imo', 'a huge shoutout to the editors behind the magic and of course the theorists who all compiled their found knowledge into this cohesive work of art thanks for the wild ride everyone at this point game theory better be apart of the fnaf world somehow theyve poured so much into this series for us', 'were proud of you too matpat how you keep track of everything in this franchise is absolutely beyond me', 'matpat is actually surprisingly poetic while describing the settings looks and smells of the fazbear universe i literally have never heard him like this ever before', 'the fact that this man found a way to make special delivery canon is why i will forever be impressed with matpat and his videos', '431 there were too many ideas going in too many different directions\\nthis may be the most meta line of the entire series', 'i think the reason the ceo seems to be against the afton virus escaping is because as matpat points out mrs afton wants the family together which cant happen if william goes right back to murder the second hes revived she wants the virus for herself not out in the world doing its own thing', 'having mrs afton being a william 20 is absolutely genius \\n\\na mother who would go to any lengths to rebuild her family tragedy has always been a very compelling story hook any you matpat have created a wonderful hook', 'matpat being able to construct all of this amazing story with only pieces and bits that fnaf threw at him is borderline legendary', 'ive been following the lore for 10 years as well and damn its crazy to see it all start to piece together', 'scott matpat and markiplier made this franchise what it is in the best way possible for us to experience lets be honest', 'this story fits perfectly within a lot of the previous lore as well as flawlessly introducing mrs afton as having a bigger role in the story', 'im actually convinced that mat could probably pursue a phd in fnaf given how much research him and his team have put into this \\n\\nits been awesome to follow over the last decade', 'freddy has been everywhere matpat has been looking for other theories its crazy', 'i just love the sheer dedication that matpat and his crew has been putting into these amazing videos', 'im glad that mat made this whole timeline story i dont even care ifthat he got something wrong here or there its just a story and im here to enjoy hearing it come from matpat', 'assuming this theory is dead on a simple change in how security breach was presented could have made it so much better how the puppet was always lingering in the background the sheds of michael through glamrock freddy i really do think that if it was told in a different tone in mind it couldve been the best game in the franchise again this is under the assumption this theory is true', 'the explanation i considered for the circuit boards is that the adult robot elizabeth sent the circuit boards in order to resurrect william in the form of glitchtrap but glitchtrap made her steal them back after he came back through vanessa so he wouldnt have to compete with other copies of himself that also explains why vanessa is so important for bringing the family back together when elizabot already exists shes got dad inside her head', 'i started watching these theory videos when i was around 10 years old so it crazy to now be watching the final part of the timeline be put together while im on a school trip to rome in my senior year of hs thank you to everyone who has worked to put this timeline together throughout the years ', 'you know the roll of mrs afton aligns really well with the “female villain” casted in the movie as it would be too old to be charlie or elizebeth', 'matpat is so focused on this series i wouldnt be surprised if he became the next afton', 'matt and the team are unreal these were 4 of your best videos thank you king 👑', 'this has to be the most wild and out their theory i have ever heard about this game it would be crazy if even 10 of this came true but still fun to think a unforgettable character could have this big a roll this late in the series', 'wouldnt it be fun to imagine if scott would just throw random knowledge at us wait for matpat to formulate a meaningful timeline and then use that as actual knowledge', 'im a very base level fnaf fan but matpat kept me so intrigued throughout this timeline series i just had to leave a comment for this momentous finale its very entertaining seeing all the pieces fit together despite not knowing much myself', '1 on trending lets go matt so proud of you', 'as much as complicated the fnaf lore has always been we should all still give respect that this one man has never given up on making us intrigued no matter what believe me if fnaf never happened then matpat would have never gotten the respect and passion he made to create one of the biggest phenomenons on not just five nights at freddys but gaming  history in general so matpat i just want to say thank you for always never giving up on your theories and giving us so much interesting content that impacted so much over the years', 'this is definitely massive as an old fnaf player i must say that this is extremely joyful to watch seeing the pieces become together it is splendid the whole video is a masterpiece and a life story  i send you my sincerely gratitude for making this \\U0001f979🙏', 'you and everyone worked so hard for a story that has taken years to create you guys came so far from the start of being a small game to a whole collection of games and stories thank you truly for all the hard work we appreciate you all', 'its so cool to see matpat acknowledging and inputting theories from other channels like johns or ids fantasy  i hope to see them and rye toast on the guest list in the talks d', 'i watched game theory for years because of fnaf but also because even if i know nothing about a game i would love to hear someone passionately ramble a theory they have about it theres so much love and care done with every video made by such an amazing team whatever the descent into madness fnaf would bring matpat im sure to have a blast watching it anyway amazing work', 'matt better be in the fnaf movie as a cameo he deserves it for all the work hes put into making sense of this franchise', 'this was iconic i wish we had the game theory intro in this one great job man i found this channel back when you uploaded your first fnaf theory', 'i love this i just dont know what else to say have fun enjoying staying out of the madness while you still can mat it has been a great journey', 'i would settle with this being the official story because i am tired of thinking what could be at night and not sleeping but thats just me', 'its crazy how far this series and matpat has come the first game came out when i was in middle school now im an adult with a job and a house its crazy how some things change and some stay the same', 'mat who defined the lore markiplier who popularized the game and scott created it truly a powerful trio 😂', 'i appreciate how he works for all the theorys in this channel', 'something interesting that i dont hear about often is how the bodies of the victims from the original games were never discovered yet the suits they were in stank \\nedit i meant how nobody thought to look into the suits that stank after some kids disappeared', 'wow what an amazing finale to the fnaf timeline ive been following this series for a while and its been quite a ride', 'wow if this is what was intended then william really managed to find his prefect match cause she went to “killing children is the clear solution” even faster then he did', 'well done team hours if dedication and you have crafted a masterpiece', 'imagine if scott just throws random lore at us waits for matpat to make a timeline that makes sense then uses it as the actual lore wouldnt that be funny', 'well i must say i wasnt expecting that also 😂 the fnaf dlc cant wait to see how that comes into play', 'matpat tom and the rest of team theorist you never cease to amaze me❤', 'the fact that he made shamrock freddy not only canon but make sense is impressive', 'its amazing this timeline feels closest to the story great job superstar', 'whilst i feel like this video was a big stretch i still really respect how entertaining it is i like this theory', 'cant wait to come back in 2 years and see how much of this timeline is still kept', 'matpat making this whole series make sense makes me happy cause its like it all seems to make sense especially since watching every fnaf theory from young n seeing them age with me ', 'i honestly love this plot i dont think theres a better path i love this', 'absolutely loved your narrative matpat thank you for your hardwork 🙇🙇', 'combine all four videos curious how long itll be and would be very interesting to rewatch lol great awesome timeline otherwise and brings some interesting thoughts and questions', 'ive been watching since his first fnaf video and to see him make a theory or a timeline and then have to make a new one due to it being retconned or to add more evidence just shows his love and dedication to not only the series but to this channel and to us to give us more and more videos every week even if it does drive him crazy thank you matpat we love you and your love for the channel and to us💕🤘🏽', 'i cant believe mat somehow made fnaf ar a part of the timeline and also made it make a relative amount of sense is honestly impressive great job mat ', 'nice theory seems plausible will be interesting to see what the dlc shows us whatever comes in the future of the franchise i thoroughly enjoyed this timeline', 'i know that mat has been worried about this chapter for quite a bit but i think this narrative works well its not perfect since it is only a theory but i am perfectly happy accepting this as my head cannon', 'matpat making ar canon was a thought…\\n\\n…that im surprisingly ok with', 'finally the fnaf timeline finally finished youve come a long way matpat and were proud of you', 'thank you for making my childhood this was lovely to watch and you did a great job 3\\n', 'at some point in the future matpat should sit down on gt live and over the period of a few streams rewatch all of his old fnaf theories and talk about what holds up still and what is waaay off the mark with the knowledge we have today', 'beautiful storyline indeed fnaf is such a great series with a wonderful lore😊', 'finally after watching fnaf theories for 6 years he finally pieced it together', 'i dont know if this is worth mentioning but with the perspective of a robot elizabeth being in charge maybe shed want a real human body which is why she captured vanessa\\n\\nits also possible that clara had the same features as elizabeth shes always depicted as having blonde hair so perhaps clara disappeared so elizabeth was rebuilding a mum that didnt leave\\n\\nthat being said though ive really enjoyed how youve presented the timeline and i like the way youve let it sort of flow like a true narrative look forward to the live stream whenever it may happen ddd', 'fnaf story makers can honestly just watch matts videos and make their timeline based on his analysis 😂 this is crazy', 'hope to see you in the movie matt another incredible theory ❤', 'mad respect for taking a risk against twitters wrath by involving mrs afton in this theory i actually believe its that we dont talk about bruno ish mindset that was keeping the fandom from understanding the afton family of its entirety especially since she has a whole animatronic that represents her shes definitely more involved in this story then we once thought', 'im glad you explained the mrs afton choice as that was the biggest leap you made and i was just about to ask about that one question how did mike and the puppet stick around if everyone else moved on after the fire was personal motivation enough to not melt the remnant or is there something else preserving their spirits', 'okay wow mrs afton being the key is something i never even considered but it makes total sense\\n\\nso much fits into place\\n\\nthat is insane', 'the problem i have is the idea that clara would leave as a stand against aftons insanity but then immediately slip into the same insanity just from having some mail sent to her  it makes more sense to me personally you make your own judgments that its a rebuilt elizabeth but if you want to force the mother afton route  maybe shes another of aftons contingencies  a posthypnotic suggestion reinforced by remnant  and her discovering that he hadnt just fallen but was abusing her was what drove her away', 'this entire theory was just what i personally thought happened i love the idea of mrsafton taking over the main seat after william seeing it being basically made confirmed until the dlc by the larger community is not only cathartic but also means that i was right in the end ', 'i absolutely love these videos and im so glad to have been able to watch these videos for so long im sure someone else has said it too but perhaps the reason mrs afton should she be the ceo doesnt want the virus to spread is because shes only trying to bring back the ‘positive aspects of afton glitch trap seems to be everything negative as past theories have covered hes practically the head of a cult trying to spread the murder she doesnt want a repeat to destroy her new family so she sees glitch trap spreading and is like “haha no”', 'after so many years its finally over and i couldnt be happier thank you matpat for this detailing this amazing journey', 'this is so fulfilling after so many years of watching game theory im so happy about this final theory', 'ruin dlc is said to come out at the end of may excited to see matpats playthrough ', 'we all know well matpat will make another timeline', 'this was a great series of videos i loved the way it was done and made for a super interesting watch \\n\\ni had a guess why the mom might want to limit the spread of glitch trap she could be worried that he would try and take control william as you described in the videos may not be happy to play second fiddle', 'scott cawthon is ingenious honestly the tying in the wife into turning all previous games into just games and fun with murder mysteries to downplay the actual real situation of what happened in those places its very very well done', 'i absolutely love the moments when matpat drops the storytellers mask and repeats what he just said directly to scott and steel wool', 'thanks to the editors for absolute slam dunking this project seriously look s great lovin it thanks editors', 'right or wrong this is an incredible theory a lot of creativity went into ststching this all together well done theorists 🙂', 'wow matt finally managed to do it congrats i literally grew up watching matt solve this series', 'scott  slams desk  he figured it all out again\\n\\nscott im just going to change the ceo into a whole new character lets see you figure out a theory to make this one work matpat    laughs maniacally ', 'its a very admirable accomplishment to take every piece of media and compile them all into these recent videos to make pretty coherent timeline it took many years', 'matpat is the main reason i enjoy this fandom and franchises so much accepting his theories as cannon has let me enjoy this so much', 'amazing i look forward to more madness from the theory crew', 'i can imagine matpat theorizing about himself if hes invited to be in the fnaf movie or a cameo in a future game', 'this is like a totally swaggin timeline tbh great job yall', 'what had me wondering at the start with him using balloras lines to set up clara aftons motivations why would william have programmed ballora to say all that the idea that her soul was in there was the fandoms reasoning for the bizarrely personal touches including the you wanted to let me in line which mat included in the video as evidence', 'congratulations on finishing this ultimate timeline i love what youve done with mrs aftons character definitely agree based in the placement of the mother staff bot at the table i just have one problem with this theory what date does security breach take place wouldnt that make mrs after very old', 'after 9 years hes finally done it well done matpat youve done it all the timeline is finished youve come so far and we are proud', 'congrats on 1 trending in gaming gt team', 'you should be proud you single handedly made this franchise 25 times more accessible for new fans', 'what im getting from the timeline is that the lore is centered just around how much smarter afton is than everyone else', 'dunno how i feel about ms afton becoming a huge factor going forward kinda feels like how most fnaf fangames all have to tie william in some way but no matter what you gotta appreciate the work game theorists put in to make this plot as cohesive as possible', 'it was so cool to finally see mrs afton in a big part of a theory i always wanted to see a big theory with her', 'these theories were so much fun to watch thank you matpat']\n"
     ]
    }
   ],
   "source": [
    "key = list(comments_dict.keys())[2]\n",
    "print(comments_dict[key])"
   ]
  },
  {
   "cell_type": "code",
   "execution_count": 11,
   "id": "3be0ee70",
   "metadata": {},
   "outputs": [
    {
     "name": "stderr",
     "output_type": "stream",
     "text": [
      "[nltk_data] Downloading package stopwords to C:\\Users\\Tony\n",
      "[nltk_data]     Lay\\AppData\\Roaming\\nltk_data...\n",
      "[nltk_data]   Package stopwords is already up-to-date!\n"
     ]
    }
   ],
   "source": []
  },
  {
   "cell_type": "code",
   "execution_count": 22,
   "id": "05b4fe2e",
   "metadata": {},
   "outputs": [
    {
     "name": "stdout",
     "output_type": "stream",
     "text": [
      "i think what actually happens is the devs dont have actual answers but just like creating mystery and twists with each game but mattpats full timeline fits all the major pieces so well that they should just adopt it as canon and build from there imo\n"
     ]
    }
   ],
   "source": []
  },
  {
   "cell_type": "code",
   "execution_count": null,
   "id": "7c1bb32a",
   "metadata": {},
   "outputs": [],
   "source": []
  }
 ],
 "metadata": {
  "kernelspec": {
   "display_name": "Python 3 (ipykernel)",
   "language": "python",
   "name": "python3"
  },
  "language_info": {
   "codemirror_mode": {
    "name": "ipython",
    "version": 3
   },
   "file_extension": ".py",
   "mimetype": "text/x-python",
   "name": "python",
   "nbconvert_exporter": "python",
   "pygments_lexer": "ipython3",
   "version": "3.9.13"
  }
 },
 "nbformat": 4,
 "nbformat_minor": 5
}
